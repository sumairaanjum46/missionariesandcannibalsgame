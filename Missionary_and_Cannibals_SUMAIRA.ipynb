{
  "cells": [
    {
      "cell_type": "markdown",
      "metadata": {
        "id": "view-in-github",
        "colab_type": "text"
      },
      "source": [
        "<a href=\"https://colab.research.google.com/github/sumairaanjum46/missionariesandcannibalsgame/blob/main/Missionary_and_Cannibals_SUMAIRA.ipynb\" target=\"_parent\"><img src=\"https://colab.research.google.com/assets/colab-badge.svg\" alt=\"Open In Colab\"/></a>"
      ]
    },
    {
      "cell_type": "markdown",
      "metadata": {
        "id": "iIYRkf0QqToJ"
      },
      "source": [
        "# Problem statement\n",
        "Create famous 3 missionaries 3 cannibals crossing the river game. Rules are as follows.<br>\n",
        "[Demonstration](https://www.novelgames.com/en/missionaries/).\n",
        "\n",
        "## Rules\n",
        "\n",
        "1. Number of `missionaries` on either side should never be less than number of `cannibals`\n",
        "2. Only one or 2 people can travel through boat at a time.\n",
        "3. You win the game when all `missionaries` and `cannibals` on the right go to the left side"
      ]
    },
    {
      "cell_type": "markdown",
      "metadata": {
        "id": "sspPN7PiqToM"
      },
      "source": [
        "## Steps to solve the problem\n",
        "\n",
        "### Step 1\n",
        "- Display number of `cannibals(C)` and `missionaries(M)` on the left and right.\n",
        "- Display `boat(B)` on the appropriate side starting from the right.\n",
        "\n",
        "Initial Display :-  \n",
        "`M = 0 C = 0  |-----B|  M = 3 C = 3`\n",
        "<br>\n",
        "(You can change display according to your imagination or convinience)\n",
        "\n",
        "### Step 2\n",
        "Accept number of `missionaries` and then number of `cannibals`.\n",
        "Example: Initially if 1 `missionaries` and 1 `cannibals` goes from right to left the game display will look like this\n",
        "\n",
        "`M = 1 C = 1  |B-----|  M = 2 C = 2`\n",
        "\n",
        "(Keep the side of the boat in mind)\n",
        "\n",
        "Don't forget to add and subtract number of missonary on both sides accordingly\n",
        "\n",
        "### Step 3\n",
        "Define Invalid moves and add conditional `'if'` statements accordingly\n",
        "\n",
        "**Rules**\n",
        "1. Number of people in a Boat should be 1 or 2\n",
        "2. Number of chosen `missionaries` or `cannibals` should not be greater than number of available `missionaries` or `cannibals` on the given side.\n",
        "   In above step one should not be able subtract 2 missionaries from left as only 1 is available.\n",
        "3. An additional condition for you to figure out!"
      ]
    },
    {
      "cell_type": "markdown",
      "metadata": {
        "id": "-mry5iijqToR"
      },
      "source": [
        "if boat_side == \"Right\":\n",
        "    Inside the scope of if statement for right side\n",
        "    \n",
        "```\n",
        "    Now check if count for missionaries or cannibals on the right\n",
        "    side are less than the number that you entered for\n",
        "    adding to boat if not print \"Invalid move\".\n",
        "        \n",
        "```   \n",
        "        \n",
        "```\n",
        "    Now when boad is on the right side after adding\n",
        "    missionaries and cannibles in th boat they will\n",
        "    be reduced from the right side\n",
        "    \n",
        "```     \n",
        "    \n",
        "```\n",
        "    Similarly on the left side count for number of\n",
        "    missionaries and cannibals will increase.\n",
        "        \n",
        "```\n",
        "    \n",
        "    \n",
        "```\n",
        "    Display your game board in the same format as above like\n",
        "    \n",
        "        M = 0 C = 0  |-----B|  M = 3 C = 3\n",
        "\n",
        "    Check the side of the Boat!!\n",
        "\n",
        "```\n",
        "\n",
        "\n",
        "```\n",
        "    Now we are done for the right side so lets change value of its variable\n",
        "\n",
        "```\n",
        "\n",
        "elif boat_side == \"Left\":\n",
        "    Inside the scope of if statement for left side    \n",
        "```\n",
        "    Now check if count for missionaries or cannibals on the right\n",
        "    side are less than the number that you entered for\n",
        "    adding to boat if not print \"Invalid move\".\n",
        "    \n",
        "```\n",
        "       \n",
        "```\n",
        "    Now when boad is on the left side after adding\n",
        "    missionaries and cannibles in th boat they will\n",
        "    be reduced from the left side.\n",
        "\n",
        "```    \n",
        "   \n",
        "```\n",
        "    Similarly on the right side count for number of\n",
        "    missionaries and cannibals will increase.\n",
        "```\n",
        "    \n",
        "    \n",
        "```\n",
        "    Display your game board in the same format as above like\n",
        "    \n",
        "    M = 0 C = 0  |-----B|  M = 3 C = 3\n",
        "\n",
        "    Check the side of the Boat!!\n",
        "```\n",
        "   \n",
        "    \n",
        "```\n",
        "    Now we are done for the right side so lets change value of its variable\n",
        "```"
      ]
    },
    {
      "cell_type": "markdown",
      "metadata": {
        "id": "zfQLO59ZqToR"
      },
      "source": [
        "\n",
        "Now add conditions to check if the game is over:\n",
        "1. If number of missionaries is less that number of cannibals on right side and\n",
        "   number of missionaries are greater than zero.\n",
        "2. If number of missionaries is less that number of cannibals on left side and\n",
        "   number of missionaries are greater than zero.\n",
        "3. If over print 'YOU LOSE'\n"
      ]
    },
    {
      "cell_type": "markdown",
      "metadata": {
        "id": "mYXC1cvKqToR"
      },
      "source": [
        "Add conditions to check if you have won the game:\n",
        "1. Number of missionaries and cannibals on the left side should be equal to 3.\n",
        "2. If condition matches print 'YOU WIN'."
      ]
    },
    {
      "cell_type": "code",
      "source": [
        "boat_side = 'Right'\n",
        "missionaries_on_right = 3\n",
        "cannibals_on_right = 3\n",
        "missionaries_on_left = 0\n",
        "cannibals_on_left = 0\n",
        "\n",
        "print(missionaries_on_left*'\\U0001f482' , cannibals_on_left*'\\U0001f479' , \"| \\U0001f30a\\U0001f30a\\U0001f30a \\U0001f6A2 |\" , missionaries_on_right*'\\U0001f482' ,cannibals_on_right*'\\U0001f479' )\n",
        "\n",
        "while True:\n",
        "\n",
        "    missionaries = int(input('No of missionaries or enter 10 to quit : '))\n",
        "    if missionaries == 10:\n",
        "        print('You Quit. Game Over!')\n",
        "        break\n",
        "    cannibals = int(input('No of cannibals : '))\n",
        "\n",
        "    if (missionaries + cannibals) != 1 and (missionaries + cannibals) != 2:\n",
        "        print('Invalid Move')\n",
        "        continue\n",
        "\n",
        "\n",
        "    if boat_side == 'Right':\n",
        "        if missionaries_on_right < missionaries or cannibals_on_right < cannibals :\n",
        "            print('Invalid Move')\n",
        "\n",
        "        missionaries_on_right = missionaries_on_right - missionaries\n",
        "        cannibals_on_right = cannibals_on_right - cannibals\n",
        "\n",
        "        missionaries_on_left += missionaries\n",
        "        cannibals_on_left += cannibals\n",
        "\n",
        "        print(missionaries_on_left* '\\U0001f482', cannibals_on_left*'\\U0001f479' , \"| \\U0001f6A2 \\U0001f30a \\U0001f30a \\U0001f30a|\", missionaries_on_right* '\\U0001f482',cannibals_on_right*'\\U0001f479' )\n",
        "\n",
        "        boat_side = 'Left'\n",
        "\n",
        "    else:\n",
        "        if missionaries_on_left < missionaries or cannibals_on_left < cannibals:\n",
        "            print('Invalid Move')\n",
        "\n",
        "\n",
        "        missionaries_on_left = missionaries_on_left - missionaries\n",
        "        cannibals_on_left = cannibals_on_left - cannibals\n",
        "\n",
        "        missionaries_on_right += missionaries\n",
        "        cannibals_on_right += cannibals\n",
        "\n",
        "        print(missionaries_on_left* '\\U0001f482',cannibals_on_left*'\\U0001f479' , \"|\\U0001f30a\\U0001f30a\\U0001f30a\\U0001f6A2'|\", missionaries_on_right* '\\U0001f482',cannibals_on_right*'\\U0001f479' )\n",
        "        boat_side = 'Right'\n",
        "\n",
        "    if (missionaries_on_right < cannibals_on_right and missionaries_on_right > 0) or (missionaries_on_left < cannibals_on_left and missionaries_on_left > 0):\n",
        "        print('You Loose')\n",
        "        break\n",
        "\n",
        "    if(missionaries_on_left == 3 and cannibals_on_left == 3):\n",
        "        print('You win')\n",
        "        break"
      ],
      "metadata": {
        "colab": {
          "base_uri": "https://localhost:8080/"
        },
        "id": "zDnoKbb-i7xz",
        "outputId": "e5a0a4ca-538f-4342-ddd5-d1e1d470bb1d"
      },
      "execution_count": 2,
      "outputs": [
        {
          "output_type": "stream",
          "name": "stdout",
          "text": [
            "  | 🌊🌊🌊 🚢 | 💂💂💂 👹👹👹\n",
            "No of missionaries or enter 10 to quit : 1\n",
            "No of cannibals : 1\n",
            "💂 👹 | 🚢 🌊 🌊 🌊| 💂💂 👹👹\n",
            "No of missionaries or enter 10 to quit : 3\n",
            "No of cannibals : 2\n",
            "Invalid Move\n",
            "No of missionaries or enter 10 to quit : 1\n",
            "No of cannibals : 0\n",
            " 👹 |🌊🌊🌊🚢'| 💂💂💂 👹👹\n",
            "No of missionaries or enter 10 to quit : 2\n",
            "No of cannibals : 0\n",
            "💂💂 👹 | 🚢 🌊 🌊 🌊| 💂 👹👹\n",
            "You Loose\n"
          ]
        }
      ]
    }
  ],
  "metadata": {
    "colab": {
      "provenance": [],
      "include_colab_link": true
    },
    "kernelspec": {
      "display_name": "Python 3 (ipykernel)",
      "language": "python",
      "name": "python3"
    },
    "language_info": {
      "codemirror_mode": {
        "name": "ipython",
        "version": 3
      },
      "file_extension": ".py",
      "mimetype": "text/x-python",
      "name": "python",
      "nbconvert_exporter": "python",
      "pygments_lexer": "ipython3",
      "version": "3.9.6"
    },
    "toc": {
      "base_numbering": 1,
      "nav_menu": {},
      "number_sections": true,
      "sideBar": true,
      "skip_h1_title": false,
      "title_cell": "Table of Contents",
      "title_sidebar": "Contents",
      "toc_cell": false,
      "toc_position": {},
      "toc_section_display": true,
      "toc_window_display": false
    }
  },
  "nbformat": 4,
  "nbformat_minor": 0
}